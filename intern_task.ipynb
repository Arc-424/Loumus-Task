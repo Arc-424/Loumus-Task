{
  "nbformat": 4,
  "nbformat_minor": 0,
  "metadata": {
    "colab": {
      "name": "intern task.ipynb",
      "provenance": []
    },
    "kernelspec": {
      "name": "python3",
      "display_name": "Python 3"
    }
  },
  "cells": [
    {
      "cell_type": "code",
      "metadata": {
        "id": "JOioNFqzPTrp"
      },
      "source": [
        "#Import\r\n",
        "\r\n",
        "#Generic\r\n",
        "import pandas as pd , numpy as np, matplotlib.pyplot as plt ,seaborn as sns ,joblib\r\n",
        "from matplotlib.ticker import FormatStrFormatter\r\n",
        "\r\n",
        "#Statistics\r\n",
        "from scipy.stats import zscore\r\n",
        "#Scaler\r\n",
        "from sklearn.preprocessing import StandardScaler,MinMaxScaler\r\n",
        "\r\n",
        "#Skewness\r\n",
        "from sklearn.preprocessing import PowerTransformer\r\n",
        "\r\n",
        "#Train Test Split\r\n",
        "from sklearn.model_selection import train_test_split\r\n",
        "\r\n",
        "#Resample\r\n",
        "from sklearn.utils import resample\r\n",
        "\r\n",
        "#Feature Selection\r\n",
        "from sklearn.feature_selection import SelectKBest,chi2,f_classif, VarianceThreshold\r\n",
        "from statsmodels.stats.outliers_influence import variance_inflation_factor\r\n",
        "\r\n",
        "#Decomposition\r\n",
        "from sklearn.decomposition import PCA\r\n",
        "\r\n",
        "#Cross Validation\r\n",
        "from sklearn.model_selection import cross_val_score\r\n",
        "\r\n",
        "#Hypertune Parameters\r\n",
        "from sklearn.model_selection import GridSearchCV\r\n",
        "\r\n",
        "#Classification Models\r\n",
        "from sklearn.linear_model import LogisticRegression\r\n",
        "from sklearn.svm import SVC\r\n",
        "from sklearn.neighbors import KNeighborsClassifier\r\n",
        "from sklearn.ensemble import RandomForestClassifier, AdaBoostClassifier, GradientBoostingClassifier\r\n",
        "import xgboost as xgb\r\n",
        "\r\n",
        "#Classification Metrics\r\n",
        "from sklearn.metrics import classification_report,confusion_matrix,f1_score,accuracy_score,recall_score,precision_score\r\n",
        "from sklearn.metrics import auc,roc_curve"
      ],
      "execution_count": 110,
      "outputs": []
    },
    {
      "cell_type": "code",
      "metadata": {
        "colab": {
          "base_uri": "https://localhost:8080/",
          "height": 198
        },
        "id": "wU80KYeeP7pe",
        "outputId": "1305408e-44da-4a65-8818-ea81e3e9701d"
      },
      "source": [
        "#Load dataset\r\n",
        "df = pd.read_csv('predictive_maintenance.csv')\r\n",
        "df.head()"
      ],
      "execution_count": 6,
      "outputs": [
        {
          "output_type": "execute_result",
          "data": {
            "text/html": [
              "<div>\n",
              "<style scoped>\n",
              "    .dataframe tbody tr th:only-of-type {\n",
              "        vertical-align: middle;\n",
              "    }\n",
              "\n",
              "    .dataframe tbody tr th {\n",
              "        vertical-align: top;\n",
              "    }\n",
              "\n",
              "    .dataframe thead th {\n",
              "        text-align: right;\n",
              "    }\n",
              "</style>\n",
              "<table border=\"1\" class=\"dataframe\">\n",
              "  <thead>\n",
              "    <tr style=\"text-align: right;\">\n",
              "      <th></th>\n",
              "      <th>date</th>\n",
              "      <th>device</th>\n",
              "      <th>failure</th>\n",
              "      <th>metric1</th>\n",
              "      <th>metric2</th>\n",
              "      <th>metric3</th>\n",
              "      <th>metric4</th>\n",
              "      <th>metric5</th>\n",
              "      <th>metric6</th>\n",
              "      <th>metric7</th>\n",
              "      <th>metric8</th>\n",
              "      <th>metric9</th>\n",
              "    </tr>\n",
              "  </thead>\n",
              "  <tbody>\n",
              "    <tr>\n",
              "      <th>0</th>\n",
              "      <td>1/1/15</td>\n",
              "      <td>S1F01085</td>\n",
              "      <td>0</td>\n",
              "      <td>215630672</td>\n",
              "      <td>56</td>\n",
              "      <td>0</td>\n",
              "      <td>52</td>\n",
              "      <td>6</td>\n",
              "      <td>407438</td>\n",
              "      <td>0</td>\n",
              "      <td>0</td>\n",
              "      <td>7</td>\n",
              "    </tr>\n",
              "    <tr>\n",
              "      <th>1</th>\n",
              "      <td>1/1/15</td>\n",
              "      <td>S1F0166B</td>\n",
              "      <td>0</td>\n",
              "      <td>61370680</td>\n",
              "      <td>0</td>\n",
              "      <td>3</td>\n",
              "      <td>0</td>\n",
              "      <td>6</td>\n",
              "      <td>403174</td>\n",
              "      <td>0</td>\n",
              "      <td>0</td>\n",
              "      <td>0</td>\n",
              "    </tr>\n",
              "    <tr>\n",
              "      <th>2</th>\n",
              "      <td>1/1/15</td>\n",
              "      <td>S1F01E6Y</td>\n",
              "      <td>0</td>\n",
              "      <td>173295968</td>\n",
              "      <td>0</td>\n",
              "      <td>0</td>\n",
              "      <td>0</td>\n",
              "      <td>12</td>\n",
              "      <td>237394</td>\n",
              "      <td>0</td>\n",
              "      <td>0</td>\n",
              "      <td>0</td>\n",
              "    </tr>\n",
              "    <tr>\n",
              "      <th>3</th>\n",
              "      <td>1/1/15</td>\n",
              "      <td>S1F01JE0</td>\n",
              "      <td>0</td>\n",
              "      <td>79694024</td>\n",
              "      <td>0</td>\n",
              "      <td>0</td>\n",
              "      <td>0</td>\n",
              "      <td>6</td>\n",
              "      <td>410186</td>\n",
              "      <td>0</td>\n",
              "      <td>0</td>\n",
              "      <td>0</td>\n",
              "    </tr>\n",
              "    <tr>\n",
              "      <th>4</th>\n",
              "      <td>1/1/15</td>\n",
              "      <td>S1F01R2B</td>\n",
              "      <td>0</td>\n",
              "      <td>135970480</td>\n",
              "      <td>0</td>\n",
              "      <td>0</td>\n",
              "      <td>0</td>\n",
              "      <td>15</td>\n",
              "      <td>313173</td>\n",
              "      <td>0</td>\n",
              "      <td>0</td>\n",
              "      <td>3</td>\n",
              "    </tr>\n",
              "  </tbody>\n",
              "</table>\n",
              "</div>"
            ],
            "text/plain": [
              "     date    device  failure    metric1  ...  metric6  metric7  metric8  metric9\n",
              "0  1/1/15  S1F01085        0  215630672  ...   407438        0        0        7\n",
              "1  1/1/15  S1F0166B        0   61370680  ...   403174        0        0        0\n",
              "2  1/1/15  S1F01E6Y        0  173295968  ...   237394        0        0        0\n",
              "3  1/1/15  S1F01JE0        0   79694024  ...   410186        0        0        0\n",
              "4  1/1/15  S1F01R2B        0  135970480  ...   313173        0        0        3\n",
              "\n",
              "[5 rows x 12 columns]"
            ]
          },
          "metadata": {
            "tags": []
          },
          "execution_count": 6
        }
      ]
    },
    {
      "cell_type": "code",
      "metadata": {
        "colab": {
          "base_uri": "https://localhost:8080/"
        },
        "id": "vhTs-snvP8Yz",
        "outputId": "6773b006-6b24-4412-f48e-fda0d3e15674"
      },
      "source": [
        "#check shape\r\n",
        "df.shape"
      ],
      "execution_count": 8,
      "outputs": [
        {
          "output_type": "execute_result",
          "data": {
            "text/plain": [
              "(124494, 12)"
            ]
          },
          "metadata": {
            "tags": []
          },
          "execution_count": 8
        }
      ]
    },
    {
      "cell_type": "code",
      "metadata": {
        "colab": {
          "base_uri": "https://localhost:8080/"
        },
        "id": "YegCm6INTCcQ",
        "outputId": "e9c2282e-4d81-4a04-b02a-578c724b7acc"
      },
      "source": [
        "df.info()"
      ],
      "execution_count": 22,
      "outputs": [
        {
          "output_type": "stream",
          "text": [
            "<class 'pandas.core.frame.DataFrame'>\n",
            "RangeIndex: 124494 entries, 0 to 124493\n",
            "Data columns (total 12 columns):\n",
            " #   Column   Non-Null Count   Dtype \n",
            "---  ------   --------------   ----- \n",
            " 0   date     124494 non-null  object\n",
            " 1   device   124494 non-null  object\n",
            " 2   failure  124494 non-null  int64 \n",
            " 3   metric1  124494 non-null  int64 \n",
            " 4   metric2  124494 non-null  int64 \n",
            " 5   metric3  124494 non-null  int64 \n",
            " 6   metric4  124494 non-null  int64 \n",
            " 7   metric5  124494 non-null  int64 \n",
            " 8   metric6  124494 non-null  int64 \n",
            " 9   metric7  124494 non-null  int64 \n",
            " 10  metric8  124494 non-null  int64 \n",
            " 11  metric9  124494 non-null  int64 \n",
            "dtypes: int64(10), object(2)\n",
            "memory usage: 11.4+ MB\n"
          ],
          "name": "stdout"
        }
      ]
    },
    {
      "cell_type": "code",
      "metadata": {
        "colab": {
          "base_uri": "https://localhost:8080/",
          "height": 308
        },
        "id": "tXC4M9KVS-gz",
        "outputId": "f056ca25-8148-4c1d-e788-3e70a5482b10"
      },
      "source": [
        "df.describe()"
      ],
      "execution_count": 21,
      "outputs": [
        {
          "output_type": "execute_result",
          "data": {
            "text/html": [
              "<div>\n",
              "<style scoped>\n",
              "    .dataframe tbody tr th:only-of-type {\n",
              "        vertical-align: middle;\n",
              "    }\n",
              "\n",
              "    .dataframe tbody tr th {\n",
              "        vertical-align: top;\n",
              "    }\n",
              "\n",
              "    .dataframe thead th {\n",
              "        text-align: right;\n",
              "    }\n",
              "</style>\n",
              "<table border=\"1\" class=\"dataframe\">\n",
              "  <thead>\n",
              "    <tr style=\"text-align: right;\">\n",
              "      <th></th>\n",
              "      <th>failure</th>\n",
              "      <th>metric1</th>\n",
              "      <th>metric2</th>\n",
              "      <th>metric3</th>\n",
              "      <th>metric4</th>\n",
              "      <th>metric5</th>\n",
              "      <th>metric6</th>\n",
              "      <th>metric7</th>\n",
              "      <th>metric8</th>\n",
              "      <th>metric9</th>\n",
              "    </tr>\n",
              "  </thead>\n",
              "  <tbody>\n",
              "    <tr>\n",
              "      <th>count</th>\n",
              "      <td>124494.000000</td>\n",
              "      <td>1.244940e+05</td>\n",
              "      <td>124494.000000</td>\n",
              "      <td>124494.000000</td>\n",
              "      <td>124494.000000</td>\n",
              "      <td>124494.000000</td>\n",
              "      <td>124494.000000</td>\n",
              "      <td>124494.000000</td>\n",
              "      <td>124494.000000</td>\n",
              "      <td>124494.000000</td>\n",
              "    </tr>\n",
              "    <tr>\n",
              "      <th>mean</th>\n",
              "      <td>0.000851</td>\n",
              "      <td>1.223881e+08</td>\n",
              "      <td>159.484762</td>\n",
              "      <td>9.940455</td>\n",
              "      <td>1.741120</td>\n",
              "      <td>14.222669</td>\n",
              "      <td>260172.657726</td>\n",
              "      <td>0.292528</td>\n",
              "      <td>0.292528</td>\n",
              "      <td>12.451524</td>\n",
              "    </tr>\n",
              "    <tr>\n",
              "      <th>std</th>\n",
              "      <td>0.029167</td>\n",
              "      <td>7.045933e+07</td>\n",
              "      <td>2179.657730</td>\n",
              "      <td>185.747321</td>\n",
              "      <td>22.908507</td>\n",
              "      <td>15.943028</td>\n",
              "      <td>99151.078547</td>\n",
              "      <td>7.436924</td>\n",
              "      <td>7.436924</td>\n",
              "      <td>191.425623</td>\n",
              "    </tr>\n",
              "    <tr>\n",
              "      <th>min</th>\n",
              "      <td>0.000000</td>\n",
              "      <td>0.000000e+00</td>\n",
              "      <td>0.000000</td>\n",
              "      <td>0.000000</td>\n",
              "      <td>0.000000</td>\n",
              "      <td>1.000000</td>\n",
              "      <td>8.000000</td>\n",
              "      <td>0.000000</td>\n",
              "      <td>0.000000</td>\n",
              "      <td>0.000000</td>\n",
              "    </tr>\n",
              "    <tr>\n",
              "      <th>25%</th>\n",
              "      <td>0.000000</td>\n",
              "      <td>6.128476e+07</td>\n",
              "      <td>0.000000</td>\n",
              "      <td>0.000000</td>\n",
              "      <td>0.000000</td>\n",
              "      <td>8.000000</td>\n",
              "      <td>221452.000000</td>\n",
              "      <td>0.000000</td>\n",
              "      <td>0.000000</td>\n",
              "      <td>0.000000</td>\n",
              "    </tr>\n",
              "    <tr>\n",
              "      <th>50%</th>\n",
              "      <td>0.000000</td>\n",
              "      <td>1.227974e+08</td>\n",
              "      <td>0.000000</td>\n",
              "      <td>0.000000</td>\n",
              "      <td>0.000000</td>\n",
              "      <td>10.000000</td>\n",
              "      <td>249799.500000</td>\n",
              "      <td>0.000000</td>\n",
              "      <td>0.000000</td>\n",
              "      <td>0.000000</td>\n",
              "    </tr>\n",
              "    <tr>\n",
              "      <th>75%</th>\n",
              "      <td>0.000000</td>\n",
              "      <td>1.833096e+08</td>\n",
              "      <td>0.000000</td>\n",
              "      <td>0.000000</td>\n",
              "      <td>0.000000</td>\n",
              "      <td>12.000000</td>\n",
              "      <td>310266.000000</td>\n",
              "      <td>0.000000</td>\n",
              "      <td>0.000000</td>\n",
              "      <td>0.000000</td>\n",
              "    </tr>\n",
              "    <tr>\n",
              "      <th>max</th>\n",
              "      <td>1.000000</td>\n",
              "      <td>2.441405e+08</td>\n",
              "      <td>64968.000000</td>\n",
              "      <td>24929.000000</td>\n",
              "      <td>1666.000000</td>\n",
              "      <td>98.000000</td>\n",
              "      <td>689161.000000</td>\n",
              "      <td>832.000000</td>\n",
              "      <td>832.000000</td>\n",
              "      <td>18701.000000</td>\n",
              "    </tr>\n",
              "  </tbody>\n",
              "</table>\n",
              "</div>"
            ],
            "text/plain": [
              "             failure       metric1  ...        metric8        metric9\n",
              "count  124494.000000  1.244940e+05  ...  124494.000000  124494.000000\n",
              "mean        0.000851  1.223881e+08  ...       0.292528      12.451524\n",
              "std         0.029167  7.045933e+07  ...       7.436924     191.425623\n",
              "min         0.000000  0.000000e+00  ...       0.000000       0.000000\n",
              "25%         0.000000  6.128476e+07  ...       0.000000       0.000000\n",
              "50%         0.000000  1.227974e+08  ...       0.000000       0.000000\n",
              "75%         0.000000  1.833096e+08  ...       0.000000       0.000000\n",
              "max         1.000000  2.441405e+08  ...     832.000000   18701.000000\n",
              "\n",
              "[8 rows x 10 columns]"
            ]
          },
          "metadata": {
            "tags": []
          },
          "execution_count": 21
        }
      ]
    },
    {
      "cell_type": "code",
      "metadata": {
        "colab": {
          "base_uri": "https://localhost:8080/"
        },
        "id": "kPfM9qmTP8v4",
        "outputId": "1d30673e-c8c4-4397-dbc8-a6def5514425"
      },
      "source": [
        "df.isnull().sum().any()"
      ],
      "execution_count": 12,
      "outputs": [
        {
          "output_type": "execute_result",
          "data": {
            "text/plain": [
              "False"
            ]
          },
          "metadata": {
            "tags": []
          },
          "execution_count": 12
        }
      ]
    },
    {
      "cell_type": "code",
      "metadata": {
        "colab": {
          "base_uri": "https://localhost:8080/"
        },
        "id": "xLeXy998RZss",
        "outputId": "831ba15d-545f-4ec2-e5a7-e6a2d8e3a88f"
      },
      "source": [
        "#Check for duplicates\r\n",
        "df.duplicated().sum()"
      ],
      "execution_count": 27,
      "outputs": [
        {
          "output_type": "execute_result",
          "data": {
            "text/plain": [
              "1"
            ]
          },
          "metadata": {
            "tags": []
          },
          "execution_count": 27
        }
      ]
    },
    {
      "cell_type": "code",
      "metadata": {
        "id": "D-nl2YLvRa0g"
      },
      "source": [
        "#Drop Duplicates\r\n",
        "df=df.drop_duplicates()"
      ],
      "execution_count": 29,
      "outputs": []
    },
    {
      "cell_type": "code",
      "metadata": {
        "colab": {
          "base_uri": "https://localhost:8080/"
        },
        "id": "O9vz63V-RbVp",
        "outputId": "fbcccdb3-78ee-484a-8c61-eade15c7015a"
      },
      "source": [
        "#Check Object type columns\r\n",
        "df.select_dtypes('object').columns"
      ],
      "execution_count": 30,
      "outputs": [
        {
          "output_type": "execute_result",
          "data": {
            "text/plain": [
              "Index(['date', 'device'], dtype='object')"
            ]
          },
          "metadata": {
            "tags": []
          },
          "execution_count": 30
        }
      ]
    },
    {
      "cell_type": "code",
      "metadata": {
        "colab": {
          "base_uri": "https://localhost:8080/"
        },
        "id": "aTaYsTJTRbmW",
        "outputId": "3a8af109-ca30-41d3-a135-a8f0fb172a2f"
      },
      "source": [
        "df['device'].nunique()"
      ],
      "execution_count": 31,
      "outputs": [
        {
          "output_type": "execute_result",
          "data": {
            "text/plain": [
              "1169"
            ]
          },
          "metadata": {
            "tags": []
          },
          "execution_count": 31
        }
      ]
    },
    {
      "cell_type": "code",
      "metadata": {
        "id": "R_QoT4BsRb45"
      },
      "source": [
        "#Drop device column\r\n",
        "df=df.drop(['date','device'],axis=1)"
      ],
      "execution_count": 32,
      "outputs": []
    },
    {
      "cell_type": "code",
      "metadata": {
        "colab": {
          "base_uri": "https://localhost:8080/",
          "height": 445
        },
        "id": "Z65gfzKIRcF8",
        "outputId": "e5155177-0564-4dda-af52-0c09a18f30ac"
      },
      "source": [
        "#Check count of failure\r\n",
        "plt.figure(figsize=(10,6))\r\n",
        "sns.countplot(df['failure'],palette='Set2')\r\n",
        "plt.ylim(0,150000)\r\n",
        "#plt.savefig('Images//1.Unsampled_Label.jpeg',dpi=300)\r\n",
        "plt.show()\r\n",
        "#As we can see the failure is highly imbalanced"
      ],
      "execution_count": 112,
      "outputs": [
        {
          "output_type": "stream",
          "text": [
            "/usr/local/lib/python3.6/dist-packages/seaborn/_decorators.py:43: FutureWarning: Pass the following variable as a keyword arg: x. From version 0.12, the only valid positional argument will be `data`, and passing other arguments without an explicit keyword will result in an error or misinterpretation.\n",
            "  FutureWarning\n"
          ],
          "name": "stderr"
        },
        {
          "output_type": "display_data",
          "data": {
            "image/png": "[encoded data removed]",
            "text/plain": [
              "<Figure size 720x432 with 1 Axes>"
            ]
          },
          "metadata": {
            "tags": [],
            "needs_background": "light"
          }
        }
      ]
    },
    {
      "cell_type": "code",
      "metadata": {
        "colab": {
          "base_uri": "https://localhost:8080/"
        },
        "id": "PDmrRnFDYfvi",
        "outputId": "953729dd-5f0a-442a-8a4f-d90dff4df4b5"
      },
      "source": [
        "df['failure'].value_counts()"
      ],
      "execution_count": 39,
      "outputs": [
        {
          "output_type": "execute_result",
          "data": {
            "text/plain": [
              "0    124387\n",
              "1       106\n",
              "Name: failure, dtype: int64"
            ]
          },
          "metadata": {
            "tags": []
          },
          "execution_count": 39
        }
      ]
    },
    {
      "cell_type": "code",
      "metadata": {
        "colab": {
          "base_uri": "https://localhost:8080/",
          "height": 378
        },
        "id": "Rl_SK_4EYgGx",
        "outputId": "4cdcd13c-084f-46c3-df08-ea4b5537b9c3"
      },
      "source": [
        "#Plot heatmap to check correlation\r\n",
        "plt.figure(figsize=(10,6))\r\n",
        "sns.heatmap(df.corr(),cmap='viridis')\r\n",
        "#plt.savefig('Images//2.Correlation_Heatmap.jpeg',dpi=300)\r\n",
        "plt.show()"
      ],
      "execution_count": 40,
      "outputs": [
        {
          "output_type": "display_data",
          "data": {
            "image/png": "[encoded data removed]",
            "text/plain": [
              "<Figure size 720x432 with 2 Axes>"
            ]
          },
          "metadata": {
            "tags": [],
            "needs_background": "light"
          }
        }
      ]
    },
    {
      "cell_type": "code",
      "metadata": {
        "colab": {
          "base_uri": "https://localhost:8080/",
          "height": 403
        },
        "id": "8heWFZMoYgUF",
        "outputId": "0ac846a3-51da-4ef1-a59a-f3324ce3fc46"
      },
      "source": [
        "#Plot barplot to check correlation\r\n",
        "plt.figure(figsize=(10,6))\r\n",
        "df.corr()['failure'].drop('failure').sort_values().plot(kind='bar')\r\n",
        "#plt.savefig('Images//3.Correlation_Barplot.jpeg',dpi=300)\r\n",
        "plt.show()"
      ],
      "execution_count": 42,
      "outputs": [
        {
          "output_type": "display_data",
          "data": {
            "image/png": "[encoded data removed]",
            "text/plain": [
              "<Figure size 720x432 with 1 Axes>"
            ]
          },
          "metadata": {
            "tags": [],
            "needs_background": "light"
          }
        }
      ]
    },
    {
      "cell_type": "code",
      "metadata": {
        "colab": {
          "base_uri": "https://localhost:8080/",
          "height": 392
        },
        "id": "4Xe-bPpNYggJ",
        "outputId": "51a845b6-3557-41bd-bd73-73c85315b83e"
      },
      "source": [
        "#Plot boxplot to check relation\r\n",
        "plt.figure(figsize=(10,6))\r\n",
        "sns.boxplot(x='failure',y='metric8',data=df,palette='viridis')\r\n",
        "plt.ylim(0,20)\r\n",
        "#plt.savefig('Images//4.Box_Plot.jpeg',dpi=300)\r\n",
        "plt.show()"
      ],
      "execution_count": 45,
      "outputs": [
        {
          "output_type": "display_data",
          "data": {
            "image/png": "[encoded data removed]",
            "text/plain": [
              "<Figure size 720x432 with 1 Axes>"
            ]
          },
          "metadata": {
            "tags": [],
            "needs_background": "light"
          }
        }
      ]
    },
    {
      "cell_type": "code",
      "metadata": {
        "id": "WzlyDdEObd3V"
      },
      "source": [
        "#Check Skewness and Detect Outlier\r\n",
        "q1=df.quantile(q=0.25)\r\n",
        "q3=df.quantile(q=0.75)"
      ],
      "execution_count": 46,
      "outputs": []
    },
    {
      "cell_type": "code",
      "metadata": {
        "id": "Xnd8Bj2xbeCj"
      },
      "source": [
        "#Create IQR Range\r\n",
        "IQR=q3-q1\r\n",
        "lower_bound = q1 - 1.5*IQR\r\n",
        "higer_bound = q3 + 1.5*IQR"
      ],
      "execution_count": 48,
      "outputs": []
    },
    {
      "cell_type": "code",
      "metadata": {
        "colab": {
          "base_uri": "https://localhost:8080/"
        },
        "id": "vT6eLWZ1bePG",
        "outputId": "69ef9c8d-d048-4b1b-9ab7-da21b98affab"
      },
      "source": [
        "higer_bound"
      ],
      "execution_count": 50,
      "outputs": [
        {
          "output_type": "execute_result",
          "data": {
            "text/plain": [
              "failure            0.0\n",
              "metric1    366347536.0\n",
              "metric2            0.0\n",
              "metric3            0.0\n",
              "metric4            0.0\n",
              "metric5           18.0\n",
              "metric6       443487.0\n",
              "metric7            0.0\n",
              "metric8            0.0\n",
              "metric9            0.0\n",
              "dtype: float64"
            ]
          },
          "metadata": {
            "tags": []
          },
          "execution_count": 50
        }
      ]
    },
    {
      "cell_type": "code",
      "metadata": {
        "id": "DjBNSkl6befE"
      },
      "source": [
        "#Create function for Outlier Detection\r\n",
        "def remove_outlier(df,col,inp):\r\n",
        "    if inp==False:\r\n",
        "        df_copy=df.copy()\r\n",
        "        raw=df_copy[col].shape[0]\r\n",
        "        df_copy=df_copy[(df_copy[col]>=lower_bound[col]) & (df_copy[col]<=higer_bound[col])]\r\n",
        "        prcsd=df_copy[col].shape[0]\r\n",
        "        \r\n",
        "        percent_change=(((raw-prcsd)/raw)*100)\r\n",
        "        outliers=raw-prcsd\r\n",
        "        \r\n",
        "        print(\"{} outliers are detected for column {} with percent change being {}\".format(outliers,col,percent_change))\r\n",
        "    elif inp==True:\r\n",
        "        raw=df[col].shape[0]\r\n",
        "        df=df[(df[col]>=lower_bound[col]) & (df[col]<=higer_bound[col])]\r\n",
        "        prcsd=df[col].shape[0]\r\n",
        "        \r\n",
        "        percent_change=(((raw-prcsd)/raw)*100)\r\n",
        "        outliers=raw-prcsd\r\n",
        "        \r\n",
        "        print(\"{} outliers are detected for column {} with percent change being {}\".format(outliers,col,percent_change))"
      ],
      "execution_count": 52,
      "outputs": []
    },
    {
      "cell_type": "code",
      "metadata": {
        "colab": {
          "base_uri": "https://localhost:8080/"
        },
        "id": "H1fOuqiHcYFM",
        "outputId": "99815ab6-cf3a-4d9b-aaac-576ffc0100cc"
      },
      "source": [
        "#Run Function for each column\r\n",
        "for x in df.columns:\r\n",
        "    remove_outlier(df,str(x),False)"
      ],
      "execution_count": 53,
      "outputs": [
        {
          "output_type": "stream",
          "text": [
            "106 outliers are detected for column failure with percent change being 0.08514534953772501\n",
            "0 outliers are detected for column metric1 with percent change being 0.0\n",
            "6384 outliers are detected for column metric2 with percent change being 5.127999164611665\n",
            "9135 outliers are detected for column metric3 with percent change being 7.3377619625199815\n",
            "9338 outliers are detected for column metric4 with percent change being 7.50082333946487\n",
            "14141 outliers are detected for column metric5 with percent change being 11.358871583141221\n",
            "14392 outliers are detected for column metric6 with percent change being 11.560489344782438\n",
            "1458 outliers are detected for column metric7 with percent change being 1.1711501851509722\n",
            "1458 outliers are detected for column metric8 with percent change being 1.1711501851509722\n",
            "27136 outliers are detected for column metric9 with percent change being 21.797209481657603\n"
          ],
          "name": "stdout"
        }
      ]
    },
    {
      "cell_type": "code",
      "metadata": {
        "id": "zM67tDRDcYRS"
      },
      "source": [
        "#Since we cannot lose more than 7-8% of the data we will not drop any of these columns"
      ],
      "execution_count": 55,
      "outputs": []
    },
    {
      "cell_type": "code",
      "metadata": {
        "id": "DP-o5oEgcYdi"
      },
      "source": [
        "pt=PowerTransformer()\r\n",
        "for x in df.columns.drop('failure'):\r\n",
        "    if abs(df.loc[:,x].skew())>0.55:\r\n",
        "        df.loc[:,x]=pt.fit_transform(df.loc[:,x].values.reshape(-1,1))"
      ],
      "execution_count": 58,
      "outputs": []
    },
    {
      "cell_type": "code",
      "metadata": {
        "colab": {
          "base_uri": "https://localhost:8080/"
        },
        "id": "BvGiZwoVcYn3",
        "outputId": "1d0fab3e-6399-4b8c-be49-a79f9fa47bd9"
      },
      "source": [
        "df.skew()"
      ],
      "execution_count": 59,
      "outputs": [
        {
          "output_type": "execute_result",
          "data": {
            "text/plain": [
              "failure    34.227056\n",
              "metric1    -0.011127\n",
              "metric2     4.068813\n",
              "metric3     3.272988\n",
              "metric4     3.227063\n",
              "metric5    -0.301303\n",
              "metric6    -0.375295\n",
              "metric7     9.077444\n",
              "metric8     9.077444\n",
              "metric9     1.422392\n",
              "dtype: float64"
            ]
          },
          "metadata": {
            "tags": []
          },
          "execution_count": 59
        }
      ]
    },
    {
      "cell_type": "code",
      "metadata": {
        "id": "GfQQripFoD93"
      },
      "source": [
        "df1 = df.copy()"
      ],
      "execution_count": 61,
      "outputs": []
    },
    {
      "cell_type": "code",
      "metadata": {
        "id": "Zdm3GDsvcYzf"
      },
      "source": [
        "#Resample the data as it is highly imbalanced\r\n",
        "df1_minority=df1[df1['failure']==1]\r\n",
        "df1_majority=df1[df1['failure']==0]\r\n",
        "\r\n",
        "df1_minority_upsampled=resample(df1_minority,replace=True,n_samples=30000,random_state=101)\r\n",
        "\r\n",
        "df1_upsampled=pd.concat([df1_majority,df1_minority_upsampled],axis=0)"
      ],
      "execution_count": 62,
      "outputs": []
    },
    {
      "cell_type": "code",
      "metadata": {
        "id": "cFAdezbOgNDi"
      },
      "source": [
        "df1_minority=df1_upsampled[df1_upsampled['failure']==1]\r\n",
        "df1_majority=df1_upsampled[df1_upsampled['failure']==0]\r\n",
        "\r\n",
        "df1_majority_downsampled=resample(df1_majority,replace=False,n_samples=85000,random_state=101)\r\n",
        "\r\n",
        "df1_downsampled=pd.concat([df1_minority,df1_majority_downsampled],axis=0)"
      ],
      "execution_count": 63,
      "outputs": []
    },
    {
      "cell_type": "code",
      "metadata": {
        "id": "Bh0FUlEagNRS"
      },
      "source": [
        "#As the data is expensive we cannot afford to loose more than 7-8% of data so we cannot directly downsample data to make the class balanced\r\n",
        "#Also, we cannot upsample the data from 25000 to 150000 as it would lead to many redundant data\r\n",
        "#Hence we have only downsampled 6-7% of data and we have upsampled that downsampled data."
      ],
      "execution_count": null,
      "outputs": []
    },
    {
      "cell_type": "code",
      "metadata": {
        "colab": {
          "base_uri": "https://localhost:8080/"
        },
        "id": "oh7ydL4xopsu",
        "outputId": "5919b590-9c20-4ee1-e2f9-ada90fadc149"
      },
      "source": [
        "#Check resmapled data\r\n",
        "df1_downsampled['failure'].value_counts()"
      ],
      "execution_count": 65,
      "outputs": [
        {
          "output_type": "execute_result",
          "data": {
            "text/plain": [
              "0    85000\n",
              "1    30000\n",
              "Name: failure, dtype: int64"
            ]
          },
          "metadata": {
            "tags": []
          },
          "execution_count": 65
        }
      ]
    },
    {
      "cell_type": "code",
      "metadata": {
        "colab": {
          "base_uri": "https://localhost:8080/",
          "height": 445
        },
        "id": "V2E0_TJ2op1M",
        "outputId": "7b5b233c-204d-49ce-a819-0233c26c7461"
      },
      "source": [
        "#Check count of Label\r\n",
        "plt.figure(figsize=(10,6))\r\n",
        "sns.countplot(df1_downsampled['failure'],palette='Set2')\r\n",
        "plt.ylim(0,150000)\r\n",
        "#plt.savefig('Images//5.Sampled_Data.jpeg',dpi=300)\r\n",
        "plt.show()\r\n",
        "#As we can see now the data is enough balanced to train a model"
      ],
      "execution_count": 68,
      "outputs": [
        {
          "output_type": "stream",
          "text": [
            "/usr/local/lib/python3.6/dist-packages/seaborn/_decorators.py:43: FutureWarning: Pass the following variable as a keyword arg: x. From version 0.12, the only valid positional argument will be `data`, and passing other arguments without an explicit keyword will result in an error or misinterpretation.\n",
            "  FutureWarning\n"
          ],
          "name": "stderr"
        },
        {
          "output_type": "display_data",
          "data": {
            "image/png": "[encoded data removed]",
            "text/plain": [
              "<Figure size 720x432 with 1 Axes>"
            ]
          },
          "metadata": {
            "tags": [],
            "needs_background": "light"
          }
        }
      ]
    },
    {
      "cell_type": "code",
      "metadata": {
        "colab": {
          "base_uri": "https://localhost:8080/"
        },
        "id": "9aOB1gIfop4t",
        "outputId": "a7406917-7986-40e7-fcd3-5462884cc64b"
      },
      "source": [
        "vif_df=pd.DataFrame()\r\n",
        "vif_df['Features']=df1_downsampled.columns\r\n",
        "vif_df['VIF']=[variance_inflation_factor(df1_downsampled.values,x) for x in range(len(df1_downsampled.columns))]"
      ],
      "execution_count": 69,
      "outputs": [
        {
          "output_type": "stream",
          "text": [
            "/usr/local/lib/python3.6/dist-packages/statsmodels/stats/outliers_influence.py:185: RuntimeWarning: divide by zero encountered in double_scalars\n",
            "  vif = 1. / (1. - r_squared_i)\n"
          ],
          "name": "stderr"
        }
      ]
    },
    {
      "cell_type": "code",
      "metadata": {
        "colab": {
          "base_uri": "https://localhost:8080/",
          "height": 348
        },
        "id": "MFNZPVivop9D",
        "outputId": "44eff10d-0188-4604-e5db-c85582fb11e9"
      },
      "source": [
        "vif_df.sort_values(by='VIF')"
      ],
      "execution_count": 70,
      "outputs": [
        {
          "output_type": "execute_result",
          "data": {
            "text/html": [
              "<div>\n",
              "<style scoped>\n",
              "    .dataframe tbody tr th:only-of-type {\n",
              "        vertical-align: middle;\n",
              "    }\n",
              "\n",
              "    .dataframe tbody tr th {\n",
              "        vertical-align: top;\n",
              "    }\n",
              "\n",
              "    .dataframe thead th {\n",
              "        text-align: right;\n",
              "    }\n",
              "</style>\n",
              "<table border=\"1\" class=\"dataframe\">\n",
              "  <thead>\n",
              "    <tr style=\"text-align: right;\">\n",
              "      <th></th>\n",
              "      <th>Features</th>\n",
              "      <th>VIF</th>\n",
              "    </tr>\n",
              "  </thead>\n",
              "  <tbody>\n",
              "    <tr>\n",
              "      <th>5</th>\n",
              "      <td>metric5</td>\n",
              "      <td>1.017677</td>\n",
              "    </tr>\n",
              "    <tr>\n",
              "      <th>3</th>\n",
              "      <td>metric3</td>\n",
              "      <td>1.149748</td>\n",
              "    </tr>\n",
              "    <tr>\n",
              "      <th>9</th>\n",
              "      <td>metric9</td>\n",
              "      <td>1.149872</td>\n",
              "    </tr>\n",
              "    <tr>\n",
              "      <th>2</th>\n",
              "      <td>metric2</td>\n",
              "      <td>1.523537</td>\n",
              "    </tr>\n",
              "    <tr>\n",
              "      <th>4</th>\n",
              "      <td>metric4</td>\n",
              "      <td>1.737304</td>\n",
              "    </tr>\n",
              "    <tr>\n",
              "      <th>0</th>\n",
              "      <td>failure</td>\n",
              "      <td>2.562992</td>\n",
              "    </tr>\n",
              "    <tr>\n",
              "      <th>1</th>\n",
              "      <td>metric1</td>\n",
              "      <td>2.959007</td>\n",
              "    </tr>\n",
              "    <tr>\n",
              "      <th>6</th>\n",
              "      <td>metric6</td>\n",
              "      <td>3.021608</td>\n",
              "    </tr>\n",
              "    <tr>\n",
              "      <th>7</th>\n",
              "      <td>metric7</td>\n",
              "      <td>inf</td>\n",
              "    </tr>\n",
              "    <tr>\n",
              "      <th>8</th>\n",
              "      <td>metric8</td>\n",
              "      <td>inf</td>\n",
              "    </tr>\n",
              "  </tbody>\n",
              "</table>\n",
              "</div>"
            ],
            "text/plain": [
              "  Features       VIF\n",
              "5  metric5  1.017677\n",
              "3  metric3  1.149748\n",
              "9  metric9  1.149872\n",
              "2  metric2  1.523537\n",
              "4  metric4  1.737304\n",
              "0  failure  2.562992\n",
              "1  metric1  2.959007\n",
              "6  metric6  3.021608\n",
              "7  metric7       inf\n",
              "8  metric8       inf"
            ]
          },
          "metadata": {
            "tags": []
          },
          "execution_count": 70
        }
      ]
    },
    {
      "cell_type": "code",
      "metadata": {
        "id": "ilN7DmqboqAY"
      },
      "source": [
        "df_downsampled_copy=df1_downsampled.copy()"
      ],
      "execution_count": 72,
      "outputs": []
    },
    {
      "cell_type": "code",
      "metadata": {
        "id": "Tt7ElLv2gWUl"
      },
      "source": [
        "df_downsampled_copy=df_downsampled_copy.drop(['metric7','metric8'],axis=1)"
      ],
      "execution_count": 73,
      "outputs": []
    },
    {
      "cell_type": "code",
      "metadata": {
        "colab": {
          "base_uri": "https://localhost:8080/"
        },
        "id": "iCR8zdMCgWfq",
        "outputId": "99beb66b-3baf-48ad-84ab-df748428c49f"
      },
      "source": [
        "df_downsampled_copy.shape"
      ],
      "execution_count": 74,
      "outputs": [
        {
          "output_type": "execute_result",
          "data": {
            "text/plain": [
              "(115000, 8)"
            ]
          },
          "metadata": {
            "tags": []
          },
          "execution_count": 74
        }
      ]
    },
    {
      "cell_type": "code",
      "metadata": {
        "id": "kCDHotKQgWrr"
      },
      "source": [
        "#Scale data\r\n",
        "scale=MinMaxScaler()\r\n",
        "X=df_downsampled_copy.drop('failure',axis=1)\r\n",
        "y=df_downsampled_copy['failure']"
      ],
      "execution_count": 77,
      "outputs": []
    },
    {
      "cell_type": "code",
      "metadata": {
        "id": "v6YWhbnysMQk"
      },
      "source": [
        "X=scale.fit_transform(X)"
      ],
      "execution_count": 78,
      "outputs": []
    },
    {
      "cell_type": "code",
      "metadata": {
        "id": "U86Zo3U5sMaa"
      },
      "source": [
        "#Split data\r\n",
        "X_train, X_test, y_train, y_test = train_test_split(X, y, test_size=0.3, random_state=101)"
      ],
      "execution_count": 79,
      "outputs": []
    },
    {
      "cell_type": "code",
      "metadata": {
        "id": "BJJaijzzsMiw"
      },
      "source": [
        "#Create Function which will evaluate model's performance\r\n",
        "model_list=[]\r\n",
        "score_list=[]\r\n",
        "def model_sel(mod):\r\n",
        "    model=mod\r\n",
        "    model.fit(X_train,y_train)\r\n",
        "    predict=model.predict(X_test)\r\n",
        "    f1score=f1_score(y_test,predict)\r\n",
        "    model_list.append(str(mod))\r\n",
        "    score_list.append(round(f1score,3))\r\n",
        "    print(\"****************** Metrics *********************\")\r\n",
        "    print()\r\n",
        "    print(\"Accuracy of the model is {}\".format(accuracy_score(y_test,predict)))\r\n",
        "    print(\"Recall of the model is {}\".format(recall_score(y_test,predict)))\r\n",
        "    print(\"Precision of the model is {}\".format(precision_score(y_test,predict)))\r\n",
        "    print(\"F1 score of the model is {}\".format(f1score))\r\n",
        "    print()\r\n",
        "    print(\"************** Confusion Matrix ****************\")\r\n",
        "    print()\r\n",
        "    print(confusion_matrix(y_test,predict))\r\n",
        "    print()\r\n",
        "    print(\"*********** Classification Report **************\")\r\n",
        "    print()\r\n",
        "    print(classification_report(y_test,predict))"
      ],
      "execution_count": 80,
      "outputs": []
    },
    {
      "cell_type": "code",
      "metadata": {
        "colab": {
          "base_uri": "https://localhost:8080/"
        },
        "id": "UVoCm8uvsMog",
        "outputId": "00554d67-d609-480e-b962-318e11514008"
      },
      "source": [
        "#Run model for Logistic Regression\r\n",
        "model_sel(LogisticRegression(max_iter=30000))"
      ],
      "execution_count": 81,
      "outputs": [
        {
          "output_type": "stream",
          "text": [
            "****************** Metrics *********************\n",
            "\n",
            "Accuracy of the model is 0.8466666666666667\n",
            "Recall of the model is 0.6432155201248746\n",
            "Precision of the model is 0.7340628578699581\n",
            "F1 score of the model is 0.6856429759923937\n",
            "\n",
            "************** Confusion Matrix ****************\n",
            "\n",
            "[[23441  2090]\n",
            " [ 3200  5769]]\n",
            "\n",
            "*********** Classification Report **************\n",
            "\n",
            "              precision    recall  f1-score   support\n",
            "\n",
            "           0       0.88      0.92      0.90     25531\n",
            "           1       0.73      0.64      0.69      8969\n",
            "\n",
            "    accuracy                           0.85     34500\n",
            "   macro avg       0.81      0.78      0.79     34500\n",
            "weighted avg       0.84      0.85      0.84     34500\n",
            "\n"
          ],
          "name": "stdout"
        }
      ]
    },
    {
      "cell_type": "code",
      "metadata": {
        "colab": {
          "base_uri": "https://localhost:8080/"
        },
        "id": "aHmhTte_s-lI",
        "outputId": "42835966-9e73-4fcd-888a-0be5c7ed9f59"
      },
      "source": [
        "#Run Model for RandomForestClassifier\r\n",
        "model_sel(RandomForestClassifier())"
      ],
      "execution_count": 82,
      "outputs": [
        {
          "output_type": "stream",
          "text": [
            "****************** Metrics *********************\n",
            "\n",
            "Accuracy of the model is 0.9995942028985507\n",
            "Recall of the model is 1.0\n",
            "Precision of the model is 0.9984415006122677\n",
            "F1 score of the model is 0.9992201426024955\n",
            "\n",
            "************** Confusion Matrix ****************\n",
            "\n",
            "[[25517    14]\n",
            " [    0  8969]]\n",
            "\n",
            "*********** Classification Report **************\n",
            "\n",
            "              precision    recall  f1-score   support\n",
            "\n",
            "           0       1.00      1.00      1.00     25531\n",
            "           1       1.00      1.00      1.00      8969\n",
            "\n",
            "    accuracy                           1.00     34500\n",
            "   macro avg       1.00      1.00      1.00     34500\n",
            "weighted avg       1.00      1.00      1.00     34500\n",
            "\n"
          ],
          "name": "stdout"
        }
      ]
    },
    {
      "cell_type": "code",
      "metadata": {
        "colab": {
          "base_uri": "https://localhost:8080/"
        },
        "id": "dQrtjGkCs-4O",
        "outputId": "5306f93f-50ae-4380-832e-078f0879ad07"
      },
      "source": [
        "#Run Model for AdaBoostClassifier\r\n",
        "model_sel(AdaBoostClassifier())"
      ],
      "execution_count": 83,
      "outputs": [
        {
          "output_type": "stream",
          "text": [
            "****************** Metrics *********************\n",
            "\n",
            "Accuracy of the model is 0.8773623188405797\n",
            "Recall of the model is 0.641320102575538\n",
            "Precision of the model is 0.8501330180313331\n",
            "F1 score of the model is 0.7311089926914521\n",
            "\n",
            "************** Confusion Matrix ****************\n",
            "\n",
            "[[24517  1014]\n",
            " [ 3217  5752]]\n",
            "\n",
            "*********** Classification Report **************\n",
            "\n",
            "              precision    recall  f1-score   support\n",
            "\n",
            "           0       0.88      0.96      0.92     25531\n",
            "           1       0.85      0.64      0.73      8969\n",
            "\n",
            "    accuracy                           0.88     34500\n",
            "   macro avg       0.87      0.80      0.83     34500\n",
            "weighted avg       0.88      0.88      0.87     34500\n",
            "\n"
          ],
          "name": "stdout"
        }
      ]
    },
    {
      "cell_type": "code",
      "metadata": {
        "colab": {
          "base_uri": "https://localhost:8080/"
        },
        "id": "oXJJXipOwbgC",
        "outputId": "52af4571-d04e-46a5-c1c4-11367a1edc7a"
      },
      "source": [
        "#Run Model for Support Vector Machines\r\n",
        "model_sel(SVC())"
      ],
      "execution_count": 90,
      "outputs": [
        {
          "output_type": "stream",
          "text": [
            "****************** Metrics *********************\n",
            "\n",
            "Accuracy of the model is 0.8770434782608696\n",
            "Recall of the model is 0.717582785148846\n",
            "Precision of the model is 0.7901780233271946\n",
            "F1 score of the model is 0.7521327568072922\n",
            "\n",
            "************** Confusion Matrix ****************\n",
            "\n",
            "[[23822  1709]\n",
            " [ 2533  6436]]\n",
            "\n",
            "*********** Classification Report **************\n",
            "\n",
            "              precision    recall  f1-score   support\n",
            "\n",
            "           0       0.90      0.93      0.92     25531\n",
            "           1       0.79      0.72      0.75      8969\n",
            "\n",
            "    accuracy                           0.88     34500\n",
            "   macro avg       0.85      0.83      0.84     34500\n",
            "weighted avg       0.87      0.88      0.88     34500\n",
            "\n"
          ],
          "name": "stdout"
        }
      ]
    },
    {
      "cell_type": "code",
      "metadata": {
        "colab": {
          "base_uri": "https://localhost:8080/"
        },
        "id": "gNoDcR_vs_RC",
        "outputId": "af80f0b2-f24a-4232-ecb7-2e57d98af3df"
      },
      "source": [
        "#Run Model for KNeighbors\r\n",
        "model_sel(KNeighborsClassifier())"
      ],
      "execution_count": 85,
      "outputs": [
        {
          "output_type": "stream",
          "text": [
            "****************** Metrics *********************\n",
            "\n",
            "Accuracy of the model is 0.9971884057971014\n",
            "Recall of the model is 1.0\n",
            "Precision of the model is 0.9893006838738142\n",
            "F1 score of the model is 0.9946215691710563\n",
            "\n",
            "************** Confusion Matrix ****************\n",
            "\n",
            "[[25434    97]\n",
            " [    0  8969]]\n",
            "\n",
            "*********** Classification Report **************\n",
            "\n",
            "              precision    recall  f1-score   support\n",
            "\n",
            "           0       1.00      1.00      1.00     25531\n",
            "           1       0.99      1.00      0.99      8969\n",
            "\n",
            "    accuracy                           1.00     34500\n",
            "   macro avg       0.99      1.00      1.00     34500\n",
            "weighted avg       1.00      1.00      1.00     34500\n",
            "\n"
          ],
          "name": "stdout"
        }
      ]
    },
    {
      "cell_type": "code",
      "metadata": {
        "colab": {
          "base_uri": "https://localhost:8080/"
        },
        "id": "dG_ceReIs_UR",
        "outputId": "4b7061f6-e6e2-42af-f605-d72a403129f2"
      },
      "source": [
        "#Create XGboost Dataset\r\n",
        "D_train = xgb.DMatrix(X_train, label=y_train)\r\n",
        "D_test = xgb.DMatrix(X_test, label=y_test)\r\n",
        "\r\n",
        "#Create Parameters for XGboost\r\n",
        "param = {\r\n",
        "    'eta': 0.6, \r\n",
        "    'max_depth': 30,  \r\n",
        "    'objective': 'multi:softprob',  \r\n",
        "    'num_class': 3}\r\n",
        "steps = 80  # The number of training iterations\r\n",
        "\r\n",
        "#Train the model\r\n",
        "model = xgb.train(param, D_train, steps)\r\n",
        "\r\n",
        "#Perform Prediction\r\n",
        "preds = model.predict(D_test)\r\n",
        "\r\n",
        "#Choose best Prediction\r\n",
        "best_preds = np.asarray([np.argmax(line) for line in preds])\r\n",
        "\r\n",
        "print(\"****************** Metrics *********************\")\r\n",
        "print()\r\n",
        "print(\"Accuracy of the model is {}\".format(accuracy_score(y_test,best_preds)))\r\n",
        "print(\"Recall of the model is {}\".format(recall_score(y_test,best_preds)))\r\n",
        "print(\"Precision of the model is {}\".format(precision_score(y_test,best_preds)))\r\n",
        "print(\"F1 score of the model is {}\".format(f1_score(y_test,best_preds)))\r\n",
        "print()\r\n",
        "print(\"************** Confusion Matrix ****************\")\r\n",
        "print()\r\n",
        "print(confusion_matrix(y_test,best_preds))\r\n",
        "print()\r\n",
        "print(\"*********** Classification Report **************\")\r\n",
        "print()\r\n",
        "print(classification_report(y_test,best_preds))\r\n",
        "\r\n",
        "model_list.append('XGBoost')\r\n",
        "score_list.append(round(f1_score(y_test,best_preds),3))"
      ],
      "execution_count": 87,
      "outputs": [
        {
          "output_type": "stream",
          "text": [
            "****************** Metrics *********************\n",
            "\n",
            "Accuracy of the model is 0.9993043478260869\n",
            "Recall of the model is 1.0\n",
            "Precision of the model is 0.9973312576448349\n",
            "F1 score of the model is 0.9986638458968935\n",
            "\n",
            "************** Confusion Matrix ****************\n",
            "\n",
            "[[25507    24]\n",
            " [    0  8969]]\n",
            "\n",
            "*********** Classification Report **************\n",
            "\n",
            "              precision    recall  f1-score   support\n",
            "\n",
            "           0       1.00      1.00      1.00     25531\n",
            "           1       1.00      1.00      1.00      8969\n",
            "\n",
            "    accuracy                           1.00     34500\n",
            "   macro avg       1.00      1.00      1.00     34500\n",
            "weighted avg       1.00      1.00      1.00     34500\n",
            "\n"
          ],
          "name": "stdout"
        }
      ]
    },
    {
      "cell_type": "code",
      "metadata": {
        "colab": {
          "base_uri": "https://localhost:8080/",
          "height": 447
        },
        "id": "qXwAXsdis_YZ",
        "outputId": "ead12cb9-a2dd-47fc-df4f-a06284261a4e"
      },
      "source": [
        "fig,ax=plt.subplots(1,1,figsize=(10,6))\r\n",
        "splot=sns.barplot(x=model_list,y=score_list,palette='twilight_r',tick_label=score_list,ax=ax)\r\n",
        "for p in splot.patches:\r\n",
        "    splot.annotate(format(p.get_height(), '.3f'), \r\n",
        "                   (p.get_x() + p.get_width() / 2., p.get_height()), \r\n",
        "                   ha = 'center', va = 'center', \r\n",
        "                   xytext = (0.00, 9.00), \r\n",
        "                   textcoords = 'offset points')\r\n",
        "ax.yaxis.set_major_formatter(FormatStrFormatter('%.3f'))\r\n",
        "ax.set_xlabel('Model')\r\n",
        "ax.set_ylabel('F1Score')\r\n",
        "plt.xticks(rotation=20)\r\n",
        "plt.tight_layout()\r\n",
        "#plt.savefig('Images//6.Model_Performance.jpeg',dpi=300)\r\n",
        "plt.show()"
      ],
      "execution_count": 91,
      "outputs": [
        {
          "output_type": "display_data",
          "data": {
            "image/png": "[encoded data removed]",
            "text/plain": [
              "<Figure size 720x432 with 1 Axes>"
            ]
          },
          "metadata": {
            "tags": [],
            "needs_background": "light"
          }
        }
      ]
    },
    {
      "cell_type": "code",
      "metadata": {
        "id": "tjASI0GFs_ce"
      },
      "source": [
        "#From the above graph we can see that RandomForestClassifier is working very well\r\n",
        "#So we will try to hypertune its paramters"
      ],
      "execution_count": null,
      "outputs": []
    },
    {
      "cell_type": "code",
      "metadata": {
        "id": "c0HZtKBdzFOo"
      },
      "source": [
        "#Instantiate object for RandomForest to optimize parameters\r\n",
        "model=RandomForestClassifier()\r\n",
        "model.fit(X_train,y_train)\r\n",
        "predict=model.predict(X_test)"
      ],
      "execution_count": 92,
      "outputs": []
    },
    {
      "cell_type": "code",
      "metadata": {
        "colab": {
          "base_uri": "https://localhost:8080/"
        },
        "id": "ANrG1oOAzFYz",
        "outputId": "c970195a-fec9-4c3f-bfe4-dc5f67d3d23a"
      },
      "source": [
        "cross_val_score(model,X_train,y_train,cv=4).mean()"
      ],
      "execution_count": 93,
      "outputs": [
        {
          "output_type": "execute_result",
          "data": {
            "text/plain": [
              "0.9994906832298137"
            ]
          },
          "metadata": {
            "tags": []
          },
          "execution_count": 93
        }
      ]
    },
    {
      "cell_type": "code",
      "metadata": {
        "colab": {
          "base_uri": "https://localhost:8080/"
        },
        "id": "mHj-A4ZczFea",
        "outputId": "496b66d3-1914-4d0a-e4d9-06b34f2bb839"
      },
      "source": [
        "fpr,tpr,threshold=roc_curve(y_test,predict)\r\n",
        "auc(fpr,tpr)"
      ],
      "execution_count": 94,
      "outputs": [
        {
          "output_type": "execute_result",
          "data": {
            "text/plain": [
              "0.9997258235086757"
            ]
          },
          "metadata": {
            "tags": []
          },
          "execution_count": 94
        }
      ]
    },
    {
      "cell_type": "code",
      "metadata": {
        "id": "73ryEAGJzFil"
      },
      "source": [
        "threshold.sort()"
      ],
      "execution_count": 95,
      "outputs": []
    },
    {
      "cell_type": "code",
      "metadata": {
        "colab": {
          "base_uri": "https://localhost:8080/",
          "height": 374
        },
        "id": "ex-PJC-AzFm0",
        "outputId": "5e5427ed-11db-4a1c-9f1b-306746c630c0"
      },
      "source": [
        "plt.figure(figsize=(10,6))\r\n",
        "plt.plot(fpr,tpr,marker='o',markerfacecolor='red',markersize=10,linestyle='-.')\r\n",
        "plt.plot(threshold)\r\n",
        "plt.ylim(0,1.3)\r\n",
        "plt.xlim(0,1.3)\r\n",
        "#plt.savefig('Images//7.AUC_ROC_Curve.jpeg',dpi=300)\r\n",
        "plt.show()"
      ],
      "execution_count": 96,
      "outputs": [
        {
          "output_type": "display_data",
          "data": {
            "image/png": "[encoded data removed]",
            "text/plain": [
              "<Figure size 720x432 with 1 Axes>"
            ]
          },
          "metadata": {
            "tags": [],
            "needs_background": "light"
          }
        }
      ]
    },
    {
      "cell_type": "code",
      "metadata": {
        "id": "PNrXyisDzFqX"
      },
      "source": [
        "#Hypertune Parameter\r\n",
        "params={'n_estimators':[100,130,150,170,190,210,230,250,270,290,310,330]}\r\n",
        "gscv=GridSearchCV(model,params)"
      ],
      "execution_count": 97,
      "outputs": []
    },
    {
      "cell_type": "code",
      "metadata": {
        "colab": {
          "base_uri": "https://localhost:8080/"
        },
        "id": "HMWfDKbn1TNv",
        "outputId": "e33171fa-c50d-4efe-a532-b13a31c4b8d7"
      },
      "source": [
        "gscv.fit(X_train,y_train)"
      ],
      "execution_count": 100,
      "outputs": [
        {
          "output_type": "execute_result",
          "data": {
            "text/plain": [
              "GridSearchCV(cv=None, error_score=nan,\n",
              "             estimator=RandomForestClassifier(bootstrap=True, ccp_alpha=0.0,\n",
              "                                              class_weight=None,\n",
              "                                              criterion='gini', max_depth=None,\n",
              "                                              max_features='auto',\n",
              "                                              max_leaf_nodes=None,\n",
              "                                              max_samples=None,\n",
              "                                              min_impurity_decrease=0.0,\n",
              "                                              min_impurity_split=None,\n",
              "                                              min_samples_leaf=1,\n",
              "                                              min_samples_split=2,\n",
              "                                              min_weight_fraction_leaf=0.0,\n",
              "                                              n_estimators=100, n_jobs=None,\n",
              "                                              oob_score=False,\n",
              "                                              random_state=None, verbose=0,\n",
              "                                              warm_start=False),\n",
              "             iid='deprecated', n_jobs=None,\n",
              "             param_grid={'n_estimators': [100, 130, 150, 170, 190, 210, 230,\n",
              "                                          250, 270, 290, 310, 330]},\n",
              "             pre_dispatch='2*n_jobs', refit=True, return_train_score=False,\n",
              "             scoring=None, verbose=0)"
            ]
          },
          "metadata": {
            "tags": []
          },
          "execution_count": 100
        }
      ]
    },
    {
      "cell_type": "code",
      "metadata": {
        "colab": {
          "base_uri": "https://localhost:8080/"
        },
        "id": "AUvxc-FezFs_",
        "outputId": "74fbaab8-1937-4b2c-c091-7d0a63f1c7ce"
      },
      "source": [
        "best_param=gscv.best_params_\r\n",
        "best_param['n_estimators']"
      ],
      "execution_count": 101,
      "outputs": [
        {
          "output_type": "execute_result",
          "data": {
            "text/plain": [
              "270"
            ]
          },
          "metadata": {
            "tags": []
          },
          "execution_count": 101
        }
      ]
    },
    {
      "cell_type": "code",
      "metadata": {
        "id": "7QsXsQKCznU3"
      },
      "source": [
        "model=RandomForestClassifier(n_estimators=best_param['n_estimators'])\r\n",
        "model.fit(X_train,y_train)\r\n",
        "predict=model.predict(X_test)"
      ],
      "execution_count": 102,
      "outputs": []
    },
    {
      "cell_type": "code",
      "metadata": {
        "colab": {
          "base_uri": "https://localhost:8080/"
        },
        "id": "kGxttIyNznkq",
        "outputId": "2c5e24fa-95d3-4261-faec-dc5350626437"
      },
      "source": [
        "print(\"****************** Metrics *********************\")\r\n",
        "print()\r\n",
        "print(\"Accuracy of the model is {}\".format(accuracy_score(y_test,predict)))\r\n",
        "print(\"Recall of the model is {}\".format(recall_score(y_test,predict)))\r\n",
        "print(\"Precision of the model is {}\".format(precision_score(y_test,predict)))\r\n",
        "print(\"F1 score of the model is {}\".format(f1_score(y_test,predict)))\r\n",
        "print()\r\n",
        "print(\"************** Confusion Matrix ****************\")\r\n",
        "print()\r\n",
        "print(confusion_matrix(y_test,predict))\r\n",
        "print()\r\n",
        "print(\"*********** Classification Report **************\")\r\n",
        "print()\r\n",
        "print(classification_report(y_test,predict))"
      ],
      "execution_count": 103,
      "outputs": [
        {
          "output_type": "stream",
          "text": [
            "****************** Metrics *********************\n",
            "\n",
            "Accuracy of the model is 0.9995072463768115\n",
            "Recall of the model is 1.0\n",
            "Precision of the model is 0.9981081682617405\n",
            "F1 score of the model is 0.9990531885268727\n",
            "\n",
            "************** Confusion Matrix ****************\n",
            "\n",
            "[[25514    17]\n",
            " [    0  8969]]\n",
            "\n",
            "*********** Classification Report **************\n",
            "\n",
            "              precision    recall  f1-score   support\n",
            "\n",
            "           0       1.00      1.00      1.00     25531\n",
            "           1       1.00      1.00      1.00      8969\n",
            "\n",
            "    accuracy                           1.00     34500\n",
            "   macro avg       1.00      1.00      1.00     34500\n",
            "weighted avg       1.00      1.00      1.00     34500\n",
            "\n"
          ],
          "name": "stdout"
        }
      ]
    },
    {
      "cell_type": "code",
      "metadata": {
        "colab": {
          "base_uri": "https://localhost:8080/",
          "height": 407
        },
        "id": "EYLeEKTOz2Nk",
        "outputId": "57b39e28-f5eb-4b29-f738-0d48765b01c6"
      },
      "source": [
        "df_predict=pd.DataFrame(pd.Series(predict))\r\n",
        "df_test=pd.DataFrame(pd.Series(y_test))\r\n",
        "df_predict=pd.concat([df_predict.reset_index().drop('index',axis=1),df_test.reset_index().drop('index',axis=1)],axis=1)\r\n",
        "df_predict.columns=['Predicted','Original']\r\n",
        "df_predict"
      ],
      "execution_count": 105,
      "outputs": [
        {
          "output_type": "execute_result",
          "data": {
            "text/html": [
              "<div>\n",
              "<style scoped>\n",
              "    .dataframe tbody tr th:only-of-type {\n",
              "        vertical-align: middle;\n",
              "    }\n",
              "\n",
              "    .dataframe tbody tr th {\n",
              "        vertical-align: top;\n",
              "    }\n",
              "\n",
              "    .dataframe thead th {\n",
              "        text-align: right;\n",
              "    }\n",
              "</style>\n",
              "<table border=\"1\" class=\"dataframe\">\n",
              "  <thead>\n",
              "    <tr style=\"text-align: right;\">\n",
              "      <th></th>\n",
              "      <th>Predicted</th>\n",
              "      <th>Original</th>\n",
              "    </tr>\n",
              "  </thead>\n",
              "  <tbody>\n",
              "    <tr>\n",
              "      <th>0</th>\n",
              "      <td>1</td>\n",
              "      <td>1</td>\n",
              "    </tr>\n",
              "    <tr>\n",
              "      <th>1</th>\n",
              "      <td>0</td>\n",
              "      <td>0</td>\n",
              "    </tr>\n",
              "    <tr>\n",
              "      <th>2</th>\n",
              "      <td>0</td>\n",
              "      <td>0</td>\n",
              "    </tr>\n",
              "    <tr>\n",
              "      <th>3</th>\n",
              "      <td>1</td>\n",
              "      <td>1</td>\n",
              "    </tr>\n",
              "    <tr>\n",
              "      <th>4</th>\n",
              "      <td>0</td>\n",
              "      <td>0</td>\n",
              "    </tr>\n",
              "    <tr>\n",
              "      <th>...</th>\n",
              "      <td>...</td>\n",
              "      <td>...</td>\n",
              "    </tr>\n",
              "    <tr>\n",
              "      <th>34495</th>\n",
              "      <td>1</td>\n",
              "      <td>1</td>\n",
              "    </tr>\n",
              "    <tr>\n",
              "      <th>34496</th>\n",
              "      <td>0</td>\n",
              "      <td>0</td>\n",
              "    </tr>\n",
              "    <tr>\n",
              "      <th>34497</th>\n",
              "      <td>1</td>\n",
              "      <td>1</td>\n",
              "    </tr>\n",
              "    <tr>\n",
              "      <th>34498</th>\n",
              "      <td>0</td>\n",
              "      <td>0</td>\n",
              "    </tr>\n",
              "    <tr>\n",
              "      <th>34499</th>\n",
              "      <td>1</td>\n",
              "      <td>1</td>\n",
              "    </tr>\n",
              "  </tbody>\n",
              "</table>\n",
              "<p>34500 rows × 2 columns</p>\n",
              "</div>"
            ],
            "text/plain": [
              "       Predicted  Original\n",
              "0              1         1\n",
              "1              0         0\n",
              "2              0         0\n",
              "3              1         1\n",
              "4              0         0\n",
              "...          ...       ...\n",
              "34495          1         1\n",
              "34496          0         0\n",
              "34497          1         1\n",
              "34498          0         0\n",
              "34499          1         1\n",
              "\n",
              "[34500 rows x 2 columns]"
            ]
          },
          "metadata": {
            "tags": []
          },
          "execution_count": 105
        }
      ]
    },
    {
      "cell_type": "code",
      "metadata": {
        "id": "JzA5v-37z2VO"
      },
      "source": [
        "df_predict.loc[df_predict['Predicted']==df_predict['Original'],'Result']=True\r\n",
        "df_predict.loc[df_predict['Predicted']!=df_predict['Original'],'Result']=False"
      ],
      "execution_count": 107,
      "outputs": []
    },
    {
      "cell_type": "code",
      "metadata": {
        "colab": {
          "base_uri": "https://localhost:8080/",
          "height": 445
        },
        "id": "t08zz4mbz2YD",
        "outputId": "eb31b594-1666-45fe-9a9c-9beb13844cd6"
      },
      "source": [
        "plt.figure(figsize=(10,6))\r\n",
        "sns.countplot(df_predict['Result'],palette='twilight')\r\n",
        "#plt.savefig('Images//8.Result.jpeg',dpi=300)\r\n",
        "plt.show()"
      ],
      "execution_count": 108,
      "outputs": [
        {
          "output_type": "stream",
          "text": [
            "/usr/local/lib/python3.6/dist-packages/seaborn/_decorators.py:43: FutureWarning: Pass the following variable as a keyword arg: x. From version 0.12, the only valid positional argument will be `data`, and passing other arguments without an explicit keyword will result in an error or misinterpretation.\n",
            "  FutureWarning\n"
          ],
          "name": "stderr"
        },
        {
          "output_type": "display_data",
          "data": {
            "image/png": "[encoded data removed]",
            "text/plain": [
              "<Figure size 720x432 with 1 Axes>"
            ]
          },
          "metadata": {
            "tags": [],
            "needs_background": "light"
          }
        }
      ]
    },
    {
      "cell_type": "code",
      "metadata": {
        "colab": {
          "base_uri": "https://localhost:8080/"
        },
        "id": "JSn_Z6Fv0SRf",
        "outputId": "a38b6c76-506a-4fec-c732-aa0a80136384"
      },
      "source": [
        "joblib.dump(model,'model.obj')"
      ],
      "execution_count": 111,
      "outputs": [
        {
          "output_type": "execute_result",
          "data": {
            "text/plain": [
              "['model.obj']"
            ]
          },
          "metadata": {
            "tags": []
          },
          "execution_count": 111
        }
      ]
    },
    {
      "cell_type": "code",
      "metadata": {
        "id": "aeN-x4uKz2a6"
      },
      "source": [
        ""
      ],
      "execution_count": null,
      "outputs": []
    }
  ]
}